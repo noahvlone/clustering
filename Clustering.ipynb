{
  "cells": [
    {
      "cell_type": "markdown",
      "metadata": {
        "id": "view-in-github",
        "colab_type": "text"
      },
      "source": [
        "<a href=\"https://colab.research.google.com/github/noahvlone/clustering/blob/main/Clustering.ipynb\" target=\"_parent\"><img src=\"https://colab.research.google.com/assets/colab-badge.svg\" alt=\"Open In Colab\"/></a>"
      ]
    },
    {
      "cell_type": "code",
      "execution_count": 1,
      "metadata": {
        "_cell_guid": "b1076dfc-b9ad-4769-8c92-a6c4dae69d19",
        "_kg_hide-input": false,
        "_uuid": "8f2839f25d086af736a60e9eeb907d3b93b6e0e5",
        "id": "fvJzRwMLgfAB"
      },
      "outputs": [],
      "source": [
        "import numpy as np # linear algebra\n",
        "import pandas as pd # data processing, CSV file I/O (e.g. pd.read_csv)\n",
        "import seaborn as sns\n",
        "import matplotlib.pyplot as plt\n",
        "# import plotly as py\n",
        "# import plotly.graph_objs as go\n",
        "from sklearn.cluster import KMeans\n",
        "import warnings\n",
        "import os\n",
        "warnings.filterwarnings(\"ignore\")"
      ]
    },
    {
      "cell_type": "code",
      "execution_count": null,
      "metadata": {
        "id": "0YhivokVGgqK"
      },
      "outputs": [],
      "source": [
        "df = pd.read_csv('Mall_Customers.csv')\n",
        "df.head()"
      ]
    },
    {
      "cell_type": "code",
      "execution_count": null,
      "metadata": {
        "id": "ZuDo6xdRG30Q"
      },
      "outputs": [],
      "source": [
        "df.info()"
      ]
    },
    {
      "cell_type": "code",
      "execution_count": null,
      "metadata": {
        "id": "h_pS2oHaHFal"
      },
      "outputs": [],
      "source": [
        "df.describe()"
      ]
    },
    {
      "cell_type": "code",
      "execution_count": null,
      "metadata": {
        "_uuid": "e57f14ca0de9ce6d08a1dd1fb6470707db3eb85a",
        "id": "KdlWBjhSgfAD"
      },
      "outputs": [],
      "source": [
        "df.isnull().sum()"
      ]
    },
    {
      "cell_type": "code",
      "execution_count": 6,
      "metadata": {
        "id": "tDd4idJZut5Z"
      },
      "outputs": [],
      "source": [
        " # Drop any irrelevant columns or rows with missing values\n",
        "df = df.dropna()"
      ]
    },
    {
      "cell_type": "code",
      "execution_count": 7,
      "metadata": {
        "id": "cVyyf-2Ousva"
      },
      "outputs": [],
      "source": [
        "plt.style.use('fivethirtyeight')"
      ]
    },
    {
      "cell_type": "code",
      "execution_count": null,
      "metadata": {
        "id": "gfktrlbKuFFU"
      },
      "outputs": [],
      "source": [
        "plt.figure(1 , figsize = (15 , 6))\n",
        "n = 0\n",
        "for x in ['Age' , 'Annual Income (k$)' , 'Spending Score (1-100)']:\n",
        "    n += 1\n",
        "    plt.subplot(1 , 3 , n)\n",
        "    plt.subplots_adjust(hspace =0.5 , wspace = 0.5)\n",
        "    sns.distplot(df[x] , bins = 20)\n",
        "    plt.title('Distplot of {}'.format(x))\n",
        "plt.show()"
      ]
    },
    {
      "cell_type": "code",
      "execution_count": null,
      "metadata": {
        "id": "MiELBXgf4438"
      },
      "outputs": [],
      "source": [
        "plt.figure(1 , figsize = (15 , 5))\n",
        "sns.countplot(y = 'Gender' , data = df)\n",
        "plt.show()"
      ]
    },
    {
      "cell_type": "markdown",
      "metadata": {
        "id": "H3XfZMZW54wi"
      },
      "source": [
        " RELASI ANTARA KETIGA FITUR(Age, Annual Income, dan Spending Score)"
      ]
    },
    {
      "cell_type": "code",
      "execution_count": null,
      "metadata": {
        "id": "ghbjXpyw5HF_"
      },
      "outputs": [],
      "source": [
        "plt.figure(1 , figsize = (17 , 10))\n",
        "n = 0\n",
        "for x in ['Age' , 'Annual Income (k$)' , 'Spending Score (1-100)']:\n",
        "    for y in ['Age' , 'Annual Income (k$)' , 'Spending Score (1-100)']:\n",
        "        n += 1\n",
        "        plt.subplot(3 , 3 , n)\n",
        "        plt.subplots_adjust(hspace = 0.4 , wspace = 0.4)\n",
        "        sns.regplot(x = x , y = y , data = df,line_kws={'color': 'red'})\n",
        "        plt.ylabel(y.split()[0]+' '+y.split()[1] if len(y.split()) > 1 else y )\n",
        "plt.show()"
      ]
    },
    {
      "cell_type": "code",
      "execution_count": null,
      "metadata": {
        "id": "Jg_QK-U8Hu6q"
      },
      "outputs": [],
      "source": [
        "plt.figure(1 , figsize = (15 , 6))\n",
        "for gender in ['Male' , 'Female']:\n",
        "    plt.scatter(x = 'Age' , y = 'Annual Income (k$)' , data = df[df['Gender'] == gender] ,\n",
        "                s = 200 , alpha = 0.5 , label = gender)\n",
        "plt.xlabel('Age'), plt.ylabel('Annual Income (k$)')\n",
        "plt.title('Age vs Annual Income w.r.t Gender')\n",
        "plt.legend()\n",
        "plt.show()"
      ]
    },
    {
      "cell_type": "code",
      "execution_count": null,
      "metadata": {
        "id": "ZVHPGNsdINfj"
      },
      "outputs": [],
      "source": [
        "plt.figure(1 , figsize = (15 , 6))\n",
        "for gender in ['Male' , 'Female']:\n",
        "    plt.scatter(x = 'Annual Income (k$)',y = 'Spending Score (1-100)' ,\n",
        "                data = df[df['Gender'] == gender] ,s = 200 , alpha = 0.5 , label = gender)\n",
        "plt.xlabel('Annual Income (k$)'), plt.ylabel('Spending Score (1-100)')\n",
        "plt.title('Annual Income vs Spending Score w.r.t Gender')\n",
        "plt.legend()\n",
        "plt.show()"
      ]
    },
    {
      "cell_type": "markdown",
      "metadata": {
        "id": "oYOmJXcXG0qP"
      },
      "source": [
        "## Clustering With K-*Means*"
      ]
    },
    {
      "cell_type": "markdown",
      "metadata": {
        "id": "bij0v7koG4_j"
      },
      "source": [
        "### 1. Segmentation using Age and Spending Score"
      ]
    },
    {
      "cell_type": "code",
      "execution_count": 13,
      "metadata": {
        "id": "C2sEa3AY6XA3"
      },
      "outputs": [],
      "source": [
        "X3 = df[['Age' , 'Annual Income (k$)' ,'Spending Score (1-100)']].iloc[: , :].values\n",
        "inertia = []\n",
        "for n in range(1 , 11):\n",
        "    algorithm = (KMeans(n_clusters = n ,init='k-means++', n_init = 10 ,max_iter=300,\n",
        "                        tol=0.0001,  random_state= 111  , algorithm='elkan') )\n",
        "    algorithm.fit(X3)\n",
        "    inertia.append(algorithm.inertia_)"
      ]
    },
    {
      "cell_type": "code",
      "execution_count": null,
      "metadata": {
        "id": "tUYi9cqGGgnN"
      },
      "outputs": [],
      "source": [
        "plt.figure(1 , figsize = (15 ,6))\n",
        "plt.plot(np.arange(1 , 11) , inertia , 'o')\n",
        "plt.plot(np.arange(1 , 11) , inertia , '-' , alpha = 0.5)\n",
        "plt.xlabel('Number of Clusters') , plt.ylabel('Inertia')\n",
        "plt.show()"
      ]
    },
    {
      "cell_type": "code",
      "execution_count": null,
      "metadata": {
        "id": "ILqMzlR_2nOv"
      },
      "outputs": [],
      "source": [
        "from sklearn.metrics import silhouette_score, silhouette_samples\n",
        "\n",
        "import matplotlib.cm as cm\n",
        "\n",
        "# Fit the KMeans algorithm with the optimal number of clusters\n",
        "optimal_clusters = 6  # You can change this based on your elbow method result\n",
        "kmeans = KMeans(n_clusters=optimal_clusters, init='k-means++', n_init=10, max_iter=300, random_state=111, algorithm='elkan')\n",
        "kmeans.fit(X3)\n",
        "labels = kmeans.labels_\n",
        "\n",
        "# Calculate the silhouette score\n",
        "silhouette_avg = silhouette_score(X3, labels)\n",
        "print(f'Silhouette Score: {silhouette_avg}')\n",
        "\n",
        "# Silhouette analysis\n",
        "sample_silhouette_values = silhouette_samples(X3, labels)\n",
        "\n",
        "plt.figure(figsize=(15, 6))\n",
        "y_lower = 10\n",
        "for i in range(optimal_clusters):\n",
        "    ith_cluster_silhouette_values = sample_silhouette_values[labels == i]\n",
        "    ith_cluster_silhouette_values.sort()\n",
        "    size_cluster_i = ith_cluster_silhouette_values.shape[0]\n",
        "    y_upper = y_lower + size_cluster_i\n",
        "\n",
        "    color = cm.nipy_spectral(float(i) / optimal_clusters)\n",
        "    plt.fill_betweenx(np.arange(y_lower, y_upper), 0, ith_cluster_silhouette_values, facecolor=color, edgecolor=color, alpha=0.7)\n",
        "    plt.text(-0.05, y_lower + 0.5 * size_cluster_i, str(i))\n",
        "\n",
        "    y_lower = y_upper + 10\n",
        "\n",
        "plt.title(\"The silhouette plot for the various clusters.\")\n",
        "plt.xlabel(\"The silhouette coefficient values\")\n",
        "plt.ylabel(\"Cluster label\")\n",
        "\n",
        "plt.axvline(x=silhouette_avg, color=\"red\", linestyle=\"--\")\n",
        "plt.yticks([])\n",
        "plt.xticks(np.arange(-0.1, 1.1, 0.1))\n",
        "plt.show()"
      ]
    },
    {
      "cell_type": "code",
      "execution_count": null,
      "metadata": {
        "id": "s9ZbwNSl2nOv"
      },
      "outputs": [],
      "source": []
    }
  ],
  "metadata": {
    "colab": {
      "provenance": [],
      "include_colab_link": true
    },
    "kernelspec": {
      "display_name": "Python 3",
      "name": "python3"
    },
    "language_info": {
      "codemirror_mode": {
        "name": "ipython",
        "version": 3
      },
      "file_extension": ".py",
      "mimetype": "text/x-python",
      "name": "python",
      "nbconvert_exporter": "python",
      "pygments_lexer": "ipython3",
      "version": "3.9.12"
    }
  },
  "nbformat": 4,
  "nbformat_minor": 0
}